{
 "cells": [
  {
   "cell_type": "code",
   "execution_count": 1,
   "id": "81836bd4",
   "metadata": {},
   "outputs": [],
   "source": [
    "from stock_prediction.data_prep import Data_Prep\n",
    "from stock_prediction.features_exo import exo_selection"
   ]
  },
  {
   "cell_type": "code",
   "execution_count": 2,
   "id": "342fe918",
   "metadata": {},
   "outputs": [
    {
     "name": "stderr",
     "output_type": "stream",
     "text": [
      "<ipython-input-2-fac18f238935>:5: FutureWarning: The pandas.datetime class is deprecated and will be removed from pandas in a future version. Import from datetime module instead.\n",
      "  from pandas import datetime\n"
     ]
    }
   ],
   "source": [
    "import numpy as np \n",
    "import pandas as pd \n",
    "import matplotlib.pyplot as plt\n",
    "from pandas.plotting import lag_plot\n",
    "from pandas import datetime\n",
    "from statsmodels.tsa.arima_model import ARIMA\n",
    "from sklearn.metrics import mean_squared_error\n",
    "import os\n",
    "from sklearn.model_selection import TimeSeriesSplit\n",
    "from sklearn.metrics import mean_absolute_percentage_error as MAPE"
   ]
  },
  {
   "cell_type": "code",
   "execution_count": null,
   "id": "8274f526",
   "metadata": {},
   "outputs": [],
   "source": [
    "import warnings\n",
    "warnings.filterwarnings('ignore', 'statsmodels.tsa.arima_model.ARMA',\n",
    "                        FutureWarning)\n",
    "warnings.filterwarnings('ignore', 'statsmodels.tsa.arima_model.ARIMA',\n",
    "                        FutureWarning)\n",
    " warnings.warn(ARIMA_DEPRECATION_WARN, FutureWarning)"
   ]
  },
  {
   "cell_type": "code",
   "execution_count": null,
   "id": "8313bf85",
   "metadata": {},
   "outputs": [],
   "source": [
    "# instantiate the Class \n",
    "vinci = Data_Prep('vinci', 10)"
   ]
  },
  {
   "cell_type": "code",
   "execution_count": null,
   "id": "a8c1d57b",
   "metadata": {},
   "outputs": [],
   "source": [
    "# load data \n",
    "data_global = vinci.data_prep()"
   ]
  },
  {
   "cell_type": "code",
   "execution_count": null,
   "id": "259fca80",
   "metadata": {},
   "outputs": [],
   "source": [
    "# select fetarures \n",
    "data_return = vinci.select_features(data_global, Return = True, Log_Return=False, High_Low=False, High_Close=False, Low_Close=False,\n",
    "                        Volume_Change=False, Period_Volum=False, Annual_Vol=False,\n",
    "                        Period_Vol=False, Return_Index=False, Volum_Index=False, Relative_Return=False)"
   ]
  },
  {
   "cell_type": "code",
   "execution_count": null,
   "id": "b8378733",
   "metadata": {},
   "outputs": [],
   "source": [
    "# add exogenous features \n",
    "data_exo = exo_selection(data_return, sp500=True, gold=True, eurusd=True, nasdaq=True, crude=True, vix=True)"
   ]
  },
  {
   "cell_type": "code",
   "execution_count": null,
   "id": "75dfcd3b",
   "metadata": {},
   "outputs": [],
   "source": [
    "# select first year \n",
    "data_exo = data_exo[-258:]"
   ]
  },
  {
   "cell_type": "code",
   "execution_count": null,
   "id": "ec32d079",
   "metadata": {},
   "outputs": [],
   "source": [
    "# rebase the indices \n",
    "data_exo = vinci.Price_Rebase(data_exo)"
   ]
  },
  {
   "cell_type": "code",
   "execution_count": null,
   "id": "9aa538d6",
   "metadata": {},
   "outputs": [],
   "source": [
    "# create the y\n",
    "y_vinci = data_exo['Return_DG.PA_R']\n",
    "y_sp = data_exo['Return_S&P500_R']\n",
    "y_usd = data_exo['Return_Usd_R']\n",
    "y_nasdaq = data_exo['Return_Nasdaq_R']\n",
    "y_crude = data_exo['Return_Crude_R']\n",
    "y_vix = data_exo['Vix_No_Rebase']"
   ]
  },
  {
   "cell_type": "code",
   "execution_count": null,
   "id": "bf83c12e",
   "metadata": {},
   "outputs": [],
   "source": [
    "# assign the exogenous features \n",
    "y_endo = y_vinci\n",
    "y_exo = y_vix"
   ]
  },
  {
   "cell_type": "code",
   "execution_count": 6,
   "id": "b1c4d7c9",
   "metadata": {},
   "outputs": [
    {
     "ename": "NameError",
     "evalue": "name 'y_endo' is not defined",
     "output_type": "error",
     "traceback": [
      "\u001b[0;31m---------------------------------------------------------------------------\u001b[0m",
      "\u001b[0;31mNameError\u001b[0m                                 Traceback (most recent call last)",
      "\u001b[0;32m<ipython-input-6-14339bf7dc78>\u001b[0m in \u001b[0;36m<module>\u001b[0;34m\u001b[0m\n\u001b[1;32m     12\u001b[0m \u001b[0morder\u001b[0m \u001b[0;34m=\u001b[0m \u001b[0;34m(\u001b[0m\u001b[0;36m0\u001b[0m\u001b[0;34m,\u001b[0m\u001b[0;36m1\u001b[0m\u001b[0;34m,\u001b[0m\u001b[0;36m0\u001b[0m\u001b[0;34m)\u001b[0m\u001b[0;34m\u001b[0m\u001b[0;34m\u001b[0m\u001b[0m\n\u001b[1;32m     13\u001b[0m \u001b[0mmax_train\u001b[0m \u001b[0;34m=\u001b[0m \u001b[0;36m11\u001b[0m\u001b[0;34m\u001b[0m\u001b[0;34m\u001b[0m\u001b[0m\n\u001b[0;32m---> 14\u001b[0;31m \u001b[0msplits\u001b[0m \u001b[0;34m=\u001b[0m \u001b[0mlen\u001b[0m\u001b[0;34m(\u001b[0m\u001b[0my_endo\u001b[0m\u001b[0;34m)\u001b[0m \u001b[0;34m-\u001b[0m \u001b[0mmax_train\u001b[0m\u001b[0;34m\u001b[0m\u001b[0;34m\u001b[0m\u001b[0m\n\u001b[0m\u001b[1;32m     15\u001b[0m \u001b[0;34m\u001b[0m\u001b[0m\n\u001b[1;32m     16\u001b[0m \u001b[0;31m# we create all the index for slices covering all the TS\u001b[0m\u001b[0;34m\u001b[0m\u001b[0;34m\u001b[0m\u001b[0;34m\u001b[0m\u001b[0m\n",
      "\u001b[0;31mNameError\u001b[0m: name 'y_endo' is not defined"
     ]
    }
   ],
   "source": [
    "\n",
    "\n",
    "#empty lists to store results \n",
    "orders = []\n",
    "mapeS = []\n",
    "aics = []\n",
    "list_y_pred = []\n",
    "list_y_test = []\n",
    "baseline = []\n",
    "base_score = []\n",
    "real_value = []\n",
    "\n",
    "# our parameter \n",
    "order = (0,1,0)\n",
    "max_train = 11\n",
    "splits = len(y_endo) - max_train\n",
    "\n",
    "# we create all the index for slices covering all the TS\n",
    "folds = TimeSeriesSplit(n_splits=splits, max_train_size=max_train, test_size=1)\n",
    "\n",
    "for (train_idx, test_idx) in folds.split(y_endo) :\n",
    "   \n",
    "    # we retrieve the real data in y \n",
    "    #corresponding of the indexes splited \n",
    "    y_train = y_endo[train_idx]\n",
    "    y_exo_train = y_exo[train_idx]\n",
    "    y_test = y_endo[test_idx]\n",
    "    y_exo_test = y_exo[test_idx]\n",
    "    y_true = y_endo[test_idx]\n",
    "    base = y_train.iloc[-1]\n",
    "\n",
    " \n",
    "    # fit our model on y_train of the split n°X\n",
    "    model = ARIMA(endog=y_train, exog=y_exo_train, order=order).fit()\n",
    "    \n",
    "    # we find our y_pred for this slice on that part of the TS\n",
    "    y_pred = model.forecast(steps=len(y_test), exog=y_exo_test)[0]\n",
    "    # we store y_pred\n",
    "    list_y_pred.append(y_pred[0])\n",
    "    # we store the value for basescore\n",
    "    baseline.append(base)\n",
    "    # and the rel value to compare \n",
    "    real_value.append(y_true.values[0])\n",
    "\n",
    "\n",
    "# once we have all values we can compute MAPE and basescore   \n",
    "base_score = MAPE(np.array([base]), y_true)\n",
    "mape_metric = MAPE(y_pred, y_true)\n"
   ]
  },
  {
   "cell_type": "code",
   "execution_count": null,
   "id": "7dfd17bf",
   "metadata": {},
   "outputs": [],
   "source": [
    "base_score"
   ]
  },
  {
   "cell_type": "code",
   "execution_count": null,
   "id": "0798a989",
   "metadata": {},
   "outputs": [],
   "source": [
    "mape_metric"
   ]
  },
  {
   "cell_type": "code",
   "execution_count": null,
   "id": "4d914954",
   "metadata": {},
   "outputs": [],
   "source": [
    "# we store this results on the table on Notion "
   ]
  },
  {
   "cell_type": "code",
   "execution_count": null,
   "id": "671a1bad",
   "metadata": {},
   "outputs": [],
   "source": []
  },
  {
   "cell_type": "code",
   "execution_count": null,
   "id": "af7aa27d",
   "metadata": {},
   "outputs": [],
   "source": []
  },
  {
   "cell_type": "code",
   "execution_count": null,
   "id": "c55d65c0",
   "metadata": {},
   "outputs": [],
   "source": []
  },
  {
   "cell_type": "code",
   "execution_count": null,
   "id": "56af2cf0",
   "metadata": {},
   "outputs": [],
   "source": []
  }
 ],
 "metadata": {
  "kernelspec": {
   "display_name": "Python 3",
   "language": "python",
   "name": "python3"
  },
  "language_info": {
   "codemirror_mode": {
    "name": "ipython",
    "version": 3
   },
   "file_extension": ".py",
   "mimetype": "text/x-python",
   "name": "python",
   "nbconvert_exporter": "python",
   "pygments_lexer": "ipython3",
   "version": "3.8.6"
  },
  "latex_envs": {
   "LaTeX_envs_menu_present": true,
   "autoclose": false,
   "autocomplete": true,
   "bibliofile": "biblio.bib",
   "cite_by": "apalike",
   "current_citInitial": 1,
   "eqLabelWithNumbers": true,
   "eqNumInitial": 1,
   "hotkeys": {
    "equation": "Ctrl-E",
    "itemize": "Ctrl-I"
   },
   "labels_anchors": false,
   "latex_user_defs": false,
   "report_style_numbering": false,
   "user_envs_cfg": false
  },
  "toc": {
   "base_numbering": 1,
   "nav_menu": {},
   "number_sections": true,
   "sideBar": true,
   "skip_h1_title": false,
   "title_cell": "Table of Contents",
   "title_sidebar": "Contents",
   "toc_cell": false,
   "toc_position": {},
   "toc_section_display": true,
   "toc_window_display": false
  }
 },
 "nbformat": 4,
 "nbformat_minor": 5
}
