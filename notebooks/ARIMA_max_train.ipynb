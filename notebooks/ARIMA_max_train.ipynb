{
 "cells": [
  {
   "cell_type": "code",
   "execution_count": 5,
   "id": "21a64ef2",
   "metadata": {},
   "outputs": [],
   "source": [
    "from stock_prediction.data_prep import Data_Prep\n",
    "from stock_prediction.features_exo import exo_selection"
   ]
  },
  {
   "cell_type": "code",
   "execution_count": 33,
   "id": "88b03b93",
   "metadata": {},
   "outputs": [
    {
     "name": "stderr",
     "output_type": "stream",
     "text": [
      "<ipython-input-33-870a85ae3975>:5: FutureWarning: The pandas.datetime class is deprecated and will be removed from pandas in a future version. Import from datetime module instead.\n",
      "  from pandas import datetime\n"
     ]
    }
   ],
   "source": [
    "import numpy as np \n",
    "import pandas as pd \n",
    "import matplotlib.pyplot as plt\n",
    "from pandas.plotting import lag_plot\n",
    "from pandas import datetime\n",
    "from statsmodels.tsa.arima_model import ARIMA\n",
    "from sklearn.metrics import mean_squared_error\n",
    "import os\n",
    "from sklearn.model_selection import TimeSeriesSplit\n",
    "from sklearn.metrics import mean_absolute_percentage_error as MAPE\n",
    "import itertools\n",
    "import pdb"
   ]
  },
  {
   "cell_type": "code",
   "execution_count": 13,
   "id": "e78be2a4",
   "metadata": {},
   "outputs": [],
   "source": [
    "# instantiate the Class \n",
    "vinci = Data_Prep('vinci', 10)"
   ]
  },
  {
   "cell_type": "code",
   "execution_count": 14,
   "id": "c86736b1",
   "metadata": {},
   "outputs": [],
   "source": [
    "# load data \n",
    "data_global = vinci.data_prep()"
   ]
  },
  {
   "cell_type": "code",
   "execution_count": 15,
   "id": "34180435",
   "metadata": {},
   "outputs": [],
   "source": [
    "# select fetarures \n",
    "data_exo = vinci.select_features(data_global, Return = True, Log_Return=False, High_Low=True, High_Close=True, Low_Close=True,\n",
    "                        Volume_Change=False, Period_Volum=True, Annual_Vol=False,\n",
    "                        Period_Vol=False, Return_Index=True, Volum_Index=True, Relative_Return=False)\n"
   ]
  },
  {
   "cell_type": "code",
   "execution_count": null,
   "id": "9f868094",
   "metadata": {},
   "outputs": [],
   "source": [
    "# add exogenous features \n",
    "data_exo = exo_selection(data_return, sp500=True, gold=True, eurusd=True, nasdaq=True, crude=True, vix=True)"
   ]
  },
  {
   "cell_type": "code",
   "execution_count": 16,
   "id": "fff1d5e9",
   "metadata": {},
   "outputs": [],
   "source": [
    "# select first year \n",
    "data_exo = data_exo[-258:]"
   ]
  },
  {
   "cell_type": "code",
   "execution_count": 17,
   "id": "d26a18b5",
   "metadata": {},
   "outputs": [],
   "source": [
    "# rebase the indices \n",
    "data_exo = vinci.Price_Rebase(data_exo)"
   ]
  },
  {
   "cell_type": "code",
   "execution_count": 18,
   "id": "95530c8b",
   "metadata": {},
   "outputs": [
    {
     "data": {
      "text/plain": [
       "Index(['Date', 'High-Low_DG.PA', 'High-Close_DG.PA', 'Low-Close_DG.PA',\n",
       "       'Period_Volum_DG.PA', 'Period_Volum_stoxx_50', 'Return_DG.PA_R',\n",
       "       'Return_stoxx_50_R'],\n",
       "      dtype='object')"
      ]
     },
     "execution_count": 18,
     "metadata": {},
     "output_type": "execute_result"
    }
   ],
   "source": [
    "data_exo.columns"
   ]
  },
  {
   "cell_type": "code",
   "execution_count": null,
   "id": "e33e3e06",
   "metadata": {},
   "outputs": [],
   "source": [
    "# create the y\n",
    "y_vinci = data_exo['Return_DG.PA_R']\n",
    "y_sp = data_exo['Return_S&P500_R']\n",
    "y_usd = data_exo['Return_Usd_R']\n",
    "y_nasdaq = data_exo['Return_Nasdaq_R']\n",
    "y_crude = data_exo['Return_Crude_R']\n",
    "y_vix = data_exo['Vix_No_Rebase']"
   ]
  },
  {
   "cell_type": "code",
   "execution_count": 29,
   "id": "464447bf",
   "metadata": {},
   "outputs": [],
   "source": [
    "# assign the exogenous features \n",
    "y_endo = data_exo['Return_DG.PA_R']\n",
    "y_exo = np.array(data_exo[['High-Low_DG.PA', 'High-Close_DG.PA', 'Low-Close_DG.PA', \n",
    "                  'Period_Volum_DG.PA', 'Period_Volum_stoxx_50', 'Return_stoxx_50_R']])"
   ]
  },
  {
   "cell_type": "code",
   "execution_count": 32,
   "id": "13dcbcc3",
   "metadata": {},
   "outputs": [
    {
     "data": {
      "text/plain": [
       "array([[ 2.58404073e-02,  1.44730775e-02,  1.12051568e-02,\n",
       "         1.12379056e-01,  2.10500239e-01,  1.00000000e+02],\n",
       "       [ 2.70996407e-02,  1.55004539e-02,  1.14221385e-02,\n",
       "         4.37202976e-01,  4.44184569e-01,  1.03759428e+02],\n",
       "       [ 3.16957565e-02,  1.71875115e-02,  1.42630978e-02,\n",
       "        -1.92506074e-02,  9.35392610e-02,  1.03207563e+02],\n",
       "       ...,\n",
       "       [ 1.15792970e-02,  5.11340135e-03,  6.43300117e-03,\n",
       "        -1.78402621e-01, -1.34404909e-01,  1.25349900e+02],\n",
       "       [ 1.65049196e-02,  8.34677394e-03,  8.09061515e-03,\n",
       "        -1.63415567e-01, -1.29851946e-01,  1.25065996e+02],\n",
       "       [ 7.63283190e-03,  2.99631898e-03,  4.62266194e-03,\n",
       "        -3.55489341e-01, -1.10168466e-01,  1.25376877e+02]])"
      ]
     },
     "execution_count": 32,
     "metadata": {},
     "output_type": "execute_result"
    }
   ],
   "source": [
    "y_exo"
   ]
  },
  {
   "cell_type": "code",
   "execution_count": null,
   "id": "7b57052b",
   "metadata": {},
   "outputs": [],
   "source": [
    "model_results_max = []\n",
    "\n",
    "\n",
    "# we search all the possibilities for max_train \n",
    "    \n",
    "for max_train in range(10,35,1) :\n",
    "\n",
    "    splits = len(y_endo) - max_train\n",
    "\n",
    "    # reset the lists for next for max_train\n",
    "    mapeS = []\n",
    "    base_score = []\n",
    "    order = (2,1,0)\n",
    "    # make the split of the indexes of our TS\n",
    "    folds = TimeSeriesSplit(n_splits=splits, max_train_size=max_train, test_size=1)\n",
    "    # fold_idx is the number of the split -- n_splits ?  \n",
    "    # train_idx are the indexes of the split n°X\n",
    "    # same for test_idx\n",
    "\n",
    "    for train_idx, test_idx in folds.split(y_endo):\n",
    "\n",
    "        # we retrieve the real data in y \n",
    "        #corresponding of the indexes splited \n",
    "        y_train = y_endo[train_idx]\n",
    "        y_exo_train = y_exo[train_idx]\n",
    "        y_test = y_endo[test_idx]\n",
    "        y_exo_test = y_exo[test_idx]\n",
    "        y_true = y_endo[test_idx]\n",
    "        base = y_train.iloc[-1]\n",
    "        #pdb.set_trace()\n",
    "        # fit our model on y_train of the split n°X\n",
    "        model = ARIMA(endog=y_train, exog=y_exo_train, order=order).fit()\n",
    "        # we find our y_pred \n",
    "        y_pred = model.forecast(steps=len(y_test), exog=y_exo_test)[0]\n",
    "        mapeS.append(MAPE(y_pred, y_true))\n",
    "        # need np.array to compute mean\n",
    "        base_score.append(MAPE(np.array([base]), y_true))\n",
    "        mapeS_m = np.array(mapeS)\n",
    "        base_score_m = np.array(base_score)\n",
    "        # we store all the results \n",
    "\n",
    "        model_results_max.append([max_train, mapeS_m.mean(), base_score_m.mean()])"
   ]
  },
  {
   "cell_type": "code",
   "execution_count": null,
   "id": "e0a4f14d",
   "metadata": {},
   "outputs": [],
   "source": [
    "model_results_max = pd.DataFrame(model_results_max, columns = ['max_train', 'MAPE', 'MAPE_base'])"
   ]
  },
  {
   "cell_type": "code",
   "execution_count": null,
   "id": "d8f09d66",
   "metadata": {},
   "outputs": [],
   "source": [
    "# we show the best max_train regarding our MAPE\n",
    "model_results_max.head().sort_values(by='MAPE')"
   ]
  },
  {
   "cell_type": "code",
   "execution_count": null,
   "id": "5d62a9da",
   "metadata": {},
   "outputs": [],
   "source": []
  },
  {
   "cell_type": "code",
   "execution_count": null,
   "id": "ad2c1f14",
   "metadata": {},
   "outputs": [],
   "source": []
  },
  {
   "cell_type": "code",
   "execution_count": null,
   "id": "2c9b3a83",
   "metadata": {},
   "outputs": [],
   "source": []
  }
 ],
 "metadata": {
  "kernelspec": {
   "display_name": "Python 3",
   "language": "python",
   "name": "python3"
  },
  "language_info": {
   "codemirror_mode": {
    "name": "ipython",
    "version": 3
   },
   "file_extension": ".py",
   "mimetype": "text/x-python",
   "name": "python",
   "nbconvert_exporter": "python",
   "pygments_lexer": "ipython3",
   "version": "3.8.6"
  },
  "latex_envs": {
   "LaTeX_envs_menu_present": true,
   "autoclose": false,
   "autocomplete": true,
   "bibliofile": "biblio.bib",
   "cite_by": "apalike",
   "current_citInitial": 1,
   "eqLabelWithNumbers": true,
   "eqNumInitial": 1,
   "hotkeys": {
    "equation": "Ctrl-E",
    "itemize": "Ctrl-I"
   },
   "labels_anchors": false,
   "latex_user_defs": false,
   "report_style_numbering": false,
   "user_envs_cfg": false
  },
  "toc": {
   "base_numbering": 1,
   "nav_menu": {},
   "number_sections": true,
   "sideBar": true,
   "skip_h1_title": false,
   "title_cell": "Table of Contents",
   "title_sidebar": "Contents",
   "toc_cell": false,
   "toc_position": {},
   "toc_section_display": true,
   "toc_window_display": false
  }
 },
 "nbformat": 4,
 "nbformat_minor": 5
}
